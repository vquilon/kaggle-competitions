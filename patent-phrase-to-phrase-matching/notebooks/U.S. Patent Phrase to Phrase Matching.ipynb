{
 "cells": [
  {
   "cell_type": "code",
   "execution_count": 2,
   "metadata": {
    "execution": {
     "iopub.execute_input": "2022-05-11T19:30:02.843250Z",
     "iopub.status.busy": "2022-05-11T19:30:02.842250Z",
     "iopub.status.idle": "2022-05-11T19:30:02.854250Z",
     "shell.execute_reply": "2022-05-11T19:30:02.853259Z",
     "shell.execute_reply.started": "2022-05-11T19:30:02.843250Z"
    },
    "tags": [],
    "pycharm": {
     "name": "#%%\n"
    }
   },
   "outputs": [
    {
     "data": {
      "text/plain": "'D:\\\\workspace\\\\kaggle\\\\patent_phrase_similarity\\\\resources'"
     },
     "execution_count": 2,
     "metadata": {},
     "output_type": "execute_result"
    }
   ],
   "source": [
    "# Input data files are available in the read-only \"../input/\" directory\n",
    "# For example, running this (by clicking run or pressing Shift+Enter) will list all files under the input directory\n",
    "\n",
    "import os\n",
    "files = ['train.csv', 'test.csv', 'sample_submission.csv']\n",
    "possible_roots = ['/kaggle/input/', './', '../../patent_phrase_similarity/resources']\n",
    "def find_root_path(_possible_roots):\n",
    "    for _root_path in _possible_roots:\n",
    "        for dirname, _, filenames in os.walk(_root_path):\n",
    "            if set(files).issubset(filenames):\n",
    "                if dirname:\n",
    "                    root_dirname = os.path.join(_root_path, dirname)\n",
    "                else:\n",
    "                    root_dirname = _root_path\n",
    "\n",
    "                return os.path.abspath(root_dirname)\n",
    "\n",
    "    raise Exception(f\"Could not find a good path, check your curdir {os.path.abspath(os.curdir)}\")\n",
    "root_path = find_root_path(possible_roots)\n",
    "\n",
    "train_filepath = os.path.join(root_path, 'train.csv')\n",
    "test_filepath = os.path.join(root_path, 'train.csv')\n",
    "sample_filepath = os.path.join(root_path, 'sample_submission.csv')\n",
    "# You can write up to 20GB to the current directory (/kaggle/working/) that gets preserved as output when you create a version using \"Save & Run All\" \n",
    "# You can also write temporary files to /kaggle/temp/, but they won't be saved outside of the current session\n",
    "\n",
    "root_path"
   ]
  },
  {
   "cell_type": "markdown",
   "metadata": {
    "pycharm": {
     "name": "#%% md\n"
    }
   },
   "source": [
    "In this dataset, you are presented pairs of phrases (an `anchor` and a `target` phrase) and asked to rate how similar they are on a scale from 0 (not at all similar) to 1 (identical in meaning). This challenge differs from a standard semantic similarity task in that similarity has been scored here within a patent's `context`, specifically its [CPC classification (version 2021.05)](https://en.wikipedia.org/wiki/Cooperative_Patent_Classification), which indicates the subject to which the patent relates. For example, while the phrases \"bird\" and \"Cape Cod\" may have low semantic similarity in normal language, the likeness of their meaning is much closer if considered in the context of \"house\".\n",
    "\n",
    "This is a code competition, in which you will submit code that will be run against an unseen test set. The unseen test set contains approximately 12k pairs of phrases. A small public test set has been provided for testing purposes, but is not used in scoring.\n",
    "\n",
    "Information on the meaning of CPC codes may be found on the [USPTO website](https://www.uspto.gov/web/patents/classification/cpc/html/cpc.html). The CPC version 2021.05 can be found on the [CPC archive website](https://www.cooperativepatentclassification.org/Archive).\n",
    "\n",
    "## Score meanings\n",
    "The scores are in the 0-1 range with increments of 0.25 with the following meanings:\n",
    "\n",
    "- 1.0 - Very close match. This is typically an exact match except possibly for differences in conjugation, quantity (e.g. singular vs. plural), and addition or removal of stopwords (e.g. “the”, “and”, “or”).\n",
    "- 0.75 - Close synonym, e.g. “mobile phone” vs. “cellphone”. This also includes abbreviations, e.g. \"TCP\" -> \"transmission control protocol\".\n",
    "- 0.5 - Synonyms which don’t have the same meaning (same function, same properties). This includes broad-narrow (hyponym) and narrow-broad (hypernym) matches.\n",
    "- 0.25 - Somewhat related, e.g. the two phrases are in the same high level domain but are not synonyms. This also includes antonyms.\n",
    "- 0.0 - Unrelated.\n",
    "## Files\n",
    "- train.csv - the training set, containing phrases, contexts, and their similarity scores\n",
    "- test.csv - the test set set, identical in structure to the training set but without the score\n",
    "- sample_submission.csv - a sample submission file in the correct format\n",
    "## Columns\n",
    "- id - a unique identifier for a pair of phrases\n",
    "- anchor - the first phrase\n",
    "- target - the second phrase\n",
    "- context - [the CPC classification (version 2021.05)](https://en.wikipedia.org/wiki/Cooperative_Patent_Classification), which indicates the subject within which the similarity is to be scored\n",
    "- score - the similarity. This is sourced from a combination of one or more manual expert ratings.\n",
    "> \"Google Patent Phrase Similarity Dataset\" by Google is licensed under a Creative Commons Attribution 4.0 International License (CC BY 4.0)"
   ]
  },
  {
   "cell_type": "code",
   "execution_count": 5,
   "metadata": {
    "execution": {
     "iopub.execute_input": "2022-05-11T19:30:08.060161Z",
     "iopub.status.busy": "2022-05-11T19:30:08.059175Z",
     "iopub.status.idle": "2022-05-11T19:30:08.075171Z",
     "shell.execute_reply": "2022-05-11T19:30:08.074160Z",
     "shell.execute_reply.started": "2022-05-11T19:30:08.060161Z"
    },
    "tags": [],
    "pycharm": {
     "name": "#%%\n"
    }
   },
   "outputs": [],
   "source": [
    "# This Python 3 environment comes with many helpful analytics libraries installed\n",
    "# It is defined by the kaggle/python Docker image: https://github.com/kaggle/docker-python\n",
    "# For example, here's several helpful packages to load\n",
    "\n",
    "import numpy as np # linear algebra\n",
    "import pandas as pd # data processing, CSV file I/O (e.g. pd.read_csv)\n",
    "\n",
    "pd.set_option('display.max_colwidth', None)"
   ]
  },
  {
   "cell_type": "code",
   "execution_count": 6,
   "metadata": {
    "execution": {
     "iopub.execute_input": "2022-05-11T19:30:08.255196Z",
     "iopub.status.busy": "2022-05-11T19:30:08.254163Z",
     "iopub.status.idle": "2022-05-11T19:30:08.390221Z",
     "shell.execute_reply": "2022-05-11T19:30:08.389217Z",
     "shell.execute_reply.started": "2022-05-11T19:30:08.255196Z"
    },
    "tags": [],
    "pycharm": {
     "name": "#%%\n"
    }
   },
   "outputs": [],
   "source": [
    "train_df = pd.read_csv(train_filepath)\n",
    "test_df = pd.read_csv(test_filepath)\n",
    "sample_df = pd.read_csv(sample_filepath)"
   ]
  },
  {
   "cell_type": "code",
   "execution_count": 7,
   "metadata": {
    "execution": {
     "iopub.execute_input": "2022-05-11T19:30:08.440224Z",
     "iopub.status.busy": "2022-05-11T19:30:08.440224Z",
     "iopub.status.idle": "2022-05-11T19:30:08.453219Z",
     "shell.execute_reply": "2022-05-11T19:30:08.452263Z",
     "shell.execute_reply.started": "2022-05-11T19:30:08.440224Z"
    },
    "tags": [],
    "pycharm": {
     "name": "#%%\n"
    }
   },
   "outputs": [
    {
     "data": {
      "text/plain": "id         06dc4a2081a1cfe6\nanchor             gas leak\ntarget                fault\ncontext                 A62\nscore                   0.5\nName: 14280, dtype: object"
     },
     "execution_count": 7,
     "metadata": {},
     "output_type": "execute_result"
    }
   ],
   "source": [
    "train_df.context[train_df.context == \"A62\"]\n",
    "train_df.iloc[14280]"
   ]
  },
  {
   "cell_type": "code",
   "execution_count": 8,
   "metadata": {
    "execution": {
     "iopub.execute_input": "2022-05-11T19:30:08.588221Z",
     "iopub.status.busy": "2022-05-11T19:30:08.588221Z",
     "iopub.status.idle": "2022-05-11T19:30:08.597218Z",
     "shell.execute_reply": "2022-05-11T19:30:08.596221Z",
     "shell.execute_reply.started": "2022-05-11T19:30:08.588221Z"
    },
    "pycharm": {
     "name": "#%%\n"
    }
   },
   "outputs": [
    {
     "data": {
      "text/plain": "array(['A47', 'A61', 'A62', 'C01', 'F16', 'F24', 'F28', 'H01', 'H04',\n       'B23', 'B41', 'D03', 'E03', 'C08', 'D01', 'D21', 'C07', 'A45',\n       'B01', 'B08', 'G04', 'G06', 'B65', 'G16', 'G01', 'A41', 'C23',\n       'F23', 'B25', 'A63', 'B28', 'B63', 'F04', 'B60', 'B32', 'C09',\n       'C02', 'G03', 'C10', 'B61', 'C21', 'F42', 'A23', 'C11', 'B29',\n       'F02', 'B62', 'B64', 'E21', 'B24', 'B22', 'H05', 'B27', 'E04',\n       'B21', 'D06', 'C04', 'B05', 'G02', 'H03', 'C06', 'G11', 'C12',\n       'E02', 'F15', 'A46', 'B66', 'G07', 'G08', 'C22', 'B44', 'A01',\n       'F03', 'C25', 'F22', 'G05', 'G21', 'B07', 'F41', 'E01', 'H02',\n       'C13', 'F01', 'F27', 'C14', 'A44', 'B67', 'A24', 'B02', 'E05',\n       'D05', 'F25', 'A43', 'A22', 'A21', 'E06', 'F21', 'G10', 'C03',\n       'B81', 'F17', 'B03', 'G09', 'D04', 'F26', 'B31'], dtype=object)"
     },
     "execution_count": 8,
     "metadata": {},
     "output_type": "execute_result"
    }
   ],
   "source": [
    "train_df.context.unique()"
   ]
  },
  {
   "cell_type": "code",
   "execution_count": 9,
   "metadata": {
    "execution": {
     "iopub.execute_input": "2022-05-11T19:30:08.755222Z",
     "iopub.status.busy": "2022-05-11T19:30:08.755222Z",
     "iopub.status.idle": "2022-05-11T19:30:08.787221Z",
     "shell.execute_reply": "2022-05-11T19:30:08.786220Z",
     "shell.execute_reply.started": "2022-05-11T19:30:08.755222Z"
    },
    "tags": [],
    "pycharm": {
     "name": "#%%\n"
    }
   },
   "outputs": [
    {
     "data": {
      "text/plain": "                     id        anchor                  target context  score\n0      37d61fd2272659b1     abatement  abatement of pollution     A47   0.50\n1      7b9652b17b68b7a4     abatement          act of abating     A47   0.75\n2      36d72442aefd8232     abatement         active catalyst     A47   0.25\n3      5296b0c19e1ce60e     abatement     eliminating process     A47   0.50\n4      54c1e3b9184cb5b6     abatement           forest region     A47   0.00\n...                 ...           ...                     ...     ...    ...\n36468  8e1386cbefd7f245  wood article          wooden article     B44   1.00\n36469  42d9e032d1cd3242  wood article              wooden box     B44   0.50\n36470  208654ccb9e14fa3  wood article           wooden handle     B44   0.50\n36471  756ec035e694722b  wood article         wooden material     B44   0.75\n36472  8d135da0b55b8c88  wood article        wooden substrate     B44   0.50\n\n[36473 rows x 5 columns]",
      "text/html": "<div>\n<style scoped>\n    .dataframe tbody tr th:only-of-type {\n        vertical-align: middle;\n    }\n\n    .dataframe tbody tr th {\n        vertical-align: top;\n    }\n\n    .dataframe thead th {\n        text-align: right;\n    }\n</style>\n<table border=\"1\" class=\"dataframe\">\n  <thead>\n    <tr style=\"text-align: right;\">\n      <th></th>\n      <th>id</th>\n      <th>anchor</th>\n      <th>target</th>\n      <th>context</th>\n      <th>score</th>\n    </tr>\n  </thead>\n  <tbody>\n    <tr>\n      <th>0</th>\n      <td>37d61fd2272659b1</td>\n      <td>abatement</td>\n      <td>abatement of pollution</td>\n      <td>A47</td>\n      <td>0.50</td>\n    </tr>\n    <tr>\n      <th>1</th>\n      <td>7b9652b17b68b7a4</td>\n      <td>abatement</td>\n      <td>act of abating</td>\n      <td>A47</td>\n      <td>0.75</td>\n    </tr>\n    <tr>\n      <th>2</th>\n      <td>36d72442aefd8232</td>\n      <td>abatement</td>\n      <td>active catalyst</td>\n      <td>A47</td>\n      <td>0.25</td>\n    </tr>\n    <tr>\n      <th>3</th>\n      <td>5296b0c19e1ce60e</td>\n      <td>abatement</td>\n      <td>eliminating process</td>\n      <td>A47</td>\n      <td>0.50</td>\n    </tr>\n    <tr>\n      <th>4</th>\n      <td>54c1e3b9184cb5b6</td>\n      <td>abatement</td>\n      <td>forest region</td>\n      <td>A47</td>\n      <td>0.00</td>\n    </tr>\n    <tr>\n      <th>...</th>\n      <td>...</td>\n      <td>...</td>\n      <td>...</td>\n      <td>...</td>\n      <td>...</td>\n    </tr>\n    <tr>\n      <th>36468</th>\n      <td>8e1386cbefd7f245</td>\n      <td>wood article</td>\n      <td>wooden article</td>\n      <td>B44</td>\n      <td>1.00</td>\n    </tr>\n    <tr>\n      <th>36469</th>\n      <td>42d9e032d1cd3242</td>\n      <td>wood article</td>\n      <td>wooden box</td>\n      <td>B44</td>\n      <td>0.50</td>\n    </tr>\n    <tr>\n      <th>36470</th>\n      <td>208654ccb9e14fa3</td>\n      <td>wood article</td>\n      <td>wooden handle</td>\n      <td>B44</td>\n      <td>0.50</td>\n    </tr>\n    <tr>\n      <th>36471</th>\n      <td>756ec035e694722b</td>\n      <td>wood article</td>\n      <td>wooden material</td>\n      <td>B44</td>\n      <td>0.75</td>\n    </tr>\n    <tr>\n      <th>36472</th>\n      <td>8d135da0b55b8c88</td>\n      <td>wood article</td>\n      <td>wooden substrate</td>\n      <td>B44</td>\n      <td>0.50</td>\n    </tr>\n  </tbody>\n</table>\n<p>36473 rows × 5 columns</p>\n</div>"
     },
     "execution_count": 9,
     "metadata": {},
     "output_type": "execute_result"
    }
   ],
   "source": [
    "train_df"
   ]
  },
  {
   "cell_type": "code",
   "execution_count": null,
   "metadata": {
    "pycharm": {
     "name": "#%%\n"
    }
   },
   "outputs": [],
   "source": []
  },
  {
   "cell_type": "code",
   "execution_count": null,
   "metadata": {
    "pycharm": {
     "name": "#%%\n"
    }
   },
   "outputs": [],
   "source": []
  },
  {
   "cell_type": "code",
   "execution_count": null,
   "metadata": {
    "pycharm": {
     "name": "#%%\n"
    }
   },
   "outputs": [],
   "source": []
  },
  {
   "cell_type": "markdown",
   "metadata": {
    "execution": {
     "iopub.execute_input": "2022-05-10T18:54:05.276060Z",
     "iopub.status.busy": "2022-05-10T18:54:05.276060Z",
     "iopub.status.idle": "2022-05-10T18:54:05.285058Z",
     "shell.execute_reply": "2022-05-10T18:54:05.284058Z",
     "shell.execute_reply.started": "2022-05-10T18:54:05.276060Z"
    },
    "pycharm": {
     "name": "#%% md\n"
    }
   },
   "source": [
    "# CPC datasets\n",
    "\n",
    "For example \"A01B33/00\"\n",
    "\n",
    "- A: Section A\n",
    "- 01: Class \n",
    "- B: Subclass\n",
    "- 33: Group\n",
    "- 00: Main group\n",
    "\n",
    "Section\n",
    "- A: Human Necessities\n",
    "- B: Operations and Transport\n",
    "- C: Chemistry and Metallurgy\n",
    "- D: Textiles\n",
    "- E: Fixed Constructions\n",
    "- F: Mechanical Engineering\n",
    "- G: Physics\n",
    "- H: Electricity\n",
    "- Y: Emerging Cross-Sectional Technologies"
   ]
  },
  {
   "cell_type": "code",
   "execution_count": null,
   "metadata": {
    "execution": {
     "iopub.execute_input": "2022-05-11T19:30:10.308356Z",
     "iopub.status.busy": "2022-05-11T19:30:10.308356Z",
     "iopub.status.idle": "2022-05-11T19:30:10.320332Z",
     "shell.execute_reply": "2022-05-11T19:30:10.319334Z",
     "shell.execute_reply.started": "2022-05-11T19:30:10.308356Z"
    },
    "tags": [],
    "pycharm": {
     "name": "#%%\n"
    }
   },
   "outputs": [],
   "source": [
    "from xml.etree import ElementTree as ET\n",
    "cpc_scheme_A = ET.parse('./CPCSchemeXML202105/cpc-scheme-A.xml')\n",
    "cpc_scheme_A_root = cpc_scheme_A.getroot()"
   ]
  },
  {
   "cell_type": "code",
   "execution_count": null,
   "metadata": {
    "execution": {
     "iopub.execute_input": "2022-05-11T19:30:10.503261Z",
     "iopub.status.busy": "2022-05-11T19:30:10.502280Z",
     "iopub.status.idle": "2022-05-11T19:30:10.523260Z",
     "shell.execute_reply": "2022-05-11T19:30:10.522260Z",
     "shell.execute_reply.started": "2022-05-11T19:30:10.503261Z"
    },
    "tags": [],
    "pycharm": {
     "name": "#%%\n"
    }
   },
   "outputs": [],
   "source": [
    "from xml.etree.ElementTree import Element\n",
    "elem: Element = list(cpc_scheme_A_root)[0]\n",
    "dict([(cpc_scheme_A_root.tag, list(cpc_scheme_A_root))])"
   ]
  },
  {
   "cell_type": "code",
   "execution_count": null,
   "metadata": {
    "execution": {
     "iopub.execute_input": "2022-05-11T19:30:10.673263Z",
     "iopub.status.busy": "2022-05-11T19:30:10.673263Z",
     "iopub.status.idle": "2022-05-11T19:30:10.697260Z",
     "shell.execute_reply": "2022-05-11T19:30:10.696300Z",
     "shell.execute_reply.started": "2022-05-11T19:30:10.673263Z"
    },
    "tags": [],
    "pycharm": {
     "name": "#%%\n"
    }
   },
   "outputs": [],
   "source": [
    "cpc_scheme_xml_map = {\n",
    "    'class-scheme': {\n",
    "        'classification-item': {\n",
    "            '__name__': 'section',\n",
    "            '__key__': 'classification-symbol',\n",
    "            'class-title': {\n",
    "                'title-part' : {\n",
    "                    '__name__': 'section',\n",
    "                    '__value__': 'text'\n",
    "                }\n",
    "            },\n",
    "            'classification-item': {\n",
    "                '__name__': 'class',\n",
    "                '__key__': 'classification-symbol',\n",
    "                'class-title': {\n",
    "                    'title-part' : {\n",
    "                        '__name__': 'class',\n",
    "                        '__value__': 'text'\n",
    "                    }\n",
    "                },\n",
    "                'classification-item' : {\n",
    "                    '__name__': 'class',\n",
    "                    '__key__': 'classification-symbol',\n",
    "                    'class-title': {\n",
    "                        'title-part' : {\n",
    "                            '__name__': 'class',\n",
    "                            '__value__': 'text'\n",
    "                            # reference.text reference.CPC-specific-text.text\n",
    "                        }\n",
    "                    },\n",
    "                    'classification-item' : {\n",
    "                        '__name__': 'subclass',\n",
    "                        '__key__': 'classification-symbol',\n",
    "                        'class-title': {\n",
    "                            'title-part' : {\n",
    "                                '__name__': 'subclass',\n",
    "                                '__value__': 'text'\n",
    "                                # reference.text reference.CPC-specific-text.text\n",
    "                            }\n",
    "                        }\n",
    "                    }\n",
    "                }\n",
    "            }\n",
    "        }\n",
    "    }\n",
    "}\n",
    "\n",
    "\n",
    "# Iterar sobre cada clave, y asignar los valores en otro diccionario anidado, despues se aplanara\n",
    "def get_data_from_xml_with(xml_mapper, xml_root_tag, plain_xml_data=None, plain_key=\"\"):\n",
    "    if plain_xml_data is None:\n",
    "        plain_xml_data = {}\n",
    "\n",
    "    xml_root_tag = dict([('__elem__', xml_root_tag), (xml_root_tag.tag, list(xml_root_tag))])\n",
    "    \n",
    "    tag_key = xml_mapper['__key__'] if '__key__' in xml_mapper else \"\"\n",
    "    tag_value = xml_mapper['__value__'] if '__value__' in xml_mapper else \"\"\n",
    "    data_name = xml_mapper['__name__'] if '__name__' in xml_mapper else \"\"\n",
    "\n",
    "    if tag_key in xml_root_tag:\n",
    "        if data_name not in plain_xml_data:\n",
    "            plain_xml_data[data_name] = {}\n",
    "        plain_key = xml_root_tag['__elem__'].text\n",
    "        plain_xml_data[data_name][xml_root_tag['__elem__'].text] = []\n",
    "\n",
    "    if tag_value in xml_root_tag:\n",
    "        plain_xml_data[data_name][plain_key] += [xml_root_tag['__elem__'].text]\n",
    "\n",
    "    for tag, elems in xml_root_tag.items():\n",
    "        if tag in xml_mapper:\n",
    "            for elem in elems:\n",
    "                plain_xml_data, plain_key = get_data_from_xml_with(xml_mapper[tag], elem, plain_xml_data=plain_xml_data, plain_key=plain_key)\n",
    "            \n",
    "    return plain_xml_data, plain_key"
   ]
  },
  {
   "cell_type": "code",
   "execution_count": null,
   "metadata": {
    "execution": {
     "iopub.execute_input": "2022-05-11T19:30:10.844262Z",
     "iopub.status.busy": "2022-05-11T19:30:10.844262Z",
     "iopub.status.idle": "2022-05-11T19:30:10.872260Z",
     "shell.execute_reply": "2022-05-11T19:30:10.870262Z",
     "shell.execute_reply.started": "2022-05-11T19:30:10.844262Z"
    },
    "tags": [],
    "pycharm": {
     "name": "#%%\n"
    }
   },
   "outputs": [],
   "source": [
    "def items_not_in_list(_left, _right, how=\"left\"):\n",
    "        _list = _left if how==\"left\" else _right\n",
    "        _other = _right if how==\"left\" else _left\n",
    "        _res = []\n",
    "        for _item in _list:\n",
    "            if _item not in _other:\n",
    "                _res.append(_item)\n",
    "\n",
    "        return _res\n",
    "\n",
    "def combine_dicts(*_dicts, how=\"left\"):\n",
    "    \"\"\"\n",
    "    >>> CognitionFunctions.combine_dicts({'claveA': [1,2,3,4]}, {'claveA': [5,6,7,8]})\n",
    "    {'claveA': [1, 2, 3, 4, 5, 6, 7, 8]}\n",
    "    >>> CognitionFunctions.combine_dicts({'claveA': []}, {'claveB': [5,6,7,8]})\n",
    "    {'claveA': [], 'claveB': [5, 6, 7, 8]}\n",
    "\n",
    "\n",
    "    :param _dicts:\n",
    "    :param how:\n",
    "    :return:\n",
    "    \"\"\"\n",
    "    _left_dict = {} if len(_dicts) == 0 else _dicts[0]\n",
    "    if not _left_dict or len(_dicts) <= 1:\n",
    "        return _left_dict\n",
    "\n",
    "    _right_dict = _dicts[1]\n",
    "    _other_dicts = _dicts[2:]\n",
    "\n",
    "    for key in _left_dict:\n",
    "        if key in _right_dict:\n",
    "            # COMBINAR VALOR RECURSIVAMENTE\n",
    "            # AMBOS SON LISTAS\n",
    "            _left = _left_dict[key]\n",
    "            _right = _right_dict[key]\n",
    "            _res = None\n",
    "            if isinstance(_left, (tuple, list)) and isinstance(_right, (tuple, list)):\n",
    "                _type = type(_right)\n",
    "                if how == \"left\":\n",
    "                    _type = type(_left)\n",
    "\n",
    "                if _type == list:\n",
    "                    _res = [*_left, *_right]\n",
    "                elif _type == tuple:\n",
    "                    _res = (*_left, *_right)\n",
    "\n",
    "            # AMBOS SON DICCIONARIOS\n",
    "            elif isinstance(_left, dict) and isinstance(_right, dict):\n",
    "                _res = combine_dicts(_left, _right, how=how)\n",
    "            # CADA UNO TIENE UN TIPO DIFERENTE (SE COGE EL VALOR DEPENDIENDO DEL TIPO DE MERGE)\n",
    "            if how != \"left\":\n",
    "                _res = _right\n",
    "\n",
    "            _left_dict[key] = _res\n",
    "\n",
    "    # Se combinan las claves del derecho que no esten en el izquierdo agregandolas\n",
    "    no_in_left_dict = items_not_in_list(\n",
    "        list(_right_dict.keys()), list(_left_dict.keys()),\n",
    "        how=how if how == \"left\" else \"right\"\n",
    "    )\n",
    "    for key in no_in_left_dict:\n",
    "        _left_dict[key] = _right_dict[key]\n",
    "\n",
    "    # Se continua combiando el resto de diccionarios\n",
    "    if len(_other_dicts) > 0:\n",
    "        _left_dict = combine_dicts(_left_dict, *_other_dicts)\n",
    "\n",
    "    return _left_dict\n",
    "\n",
    "\n",
    "combine_dicts({'a': {'b': [1,3,4]}}, {'a': {'b': [5]}})"
   ]
  },
  {
   "cell_type": "code",
   "execution_count": null,
   "metadata": {
    "execution": {
     "iopub.execute_input": "2022-05-11T19:30:11.015291Z",
     "iopub.status.busy": "2022-05-11T19:30:11.015291Z",
     "iopub.status.idle": "2022-05-11T19:30:11.109259Z",
     "shell.execute_reply": "2022-05-11T19:30:11.108290Z",
     "shell.execute_reply.started": "2022-05-11T19:30:11.015291Z"
    },
    "tags": [],
    "pycharm": {
     "name": "#%%\n"
    }
   },
   "outputs": [],
   "source": [
    "import re\n",
    "import os\n",
    "import xml.etree.ElementTree as ET\n",
    "\n",
    "cpc_data = {}\n",
    "cpc_data_merged = {}\n",
    "# cpc_path = \"/kaggle/input/cpc-scheme-cml-202105/CPCSchemeXML202105/\"\n",
    "cpc_path = \"./CPCSchemeXML202105/\"\n",
    "\n",
    "dirname, _, filenames = list(os.walk(cpc_path))[0]\n",
    "for filename in filenames:\n",
    "    if re.match(r\"cpc-scheme-[a-z]\\.xml\", filename, re.IGNORECASE):\n",
    "        print(filename)\n",
    "        cpc_scheme = ET.parse(os.path.join(dirname, filename))\n",
    "        cpc_scheme_root = cpc_scheme.getroot()\n",
    "        section = re.sub(r\"cpc-scheme-([a-z])\\.xml\", r\"\\1\", filename, flags=re.IGNORECASE)\n",
    "        cpc_data[section], _ = get_data_from_xml_with(cpc_scheme_xml_map, cpc_scheme_root)\n",
    "        # cpc_data_merged = combine_dicts(cpc_data_merged, cpc_data[section])\n",
    "\n",
    "cpc_data_merged = combine_dicts(*list(cpc_data.values()))"
   ]
  },
  {
   "cell_type": "code",
   "execution_count": null,
   "metadata": {
    "execution": {
     "iopub.execute_input": "2022-05-11T19:30:11.219270Z",
     "iopub.status.busy": "2022-05-11T19:30:11.218266Z",
     "iopub.status.idle": "2022-05-11T19:30:11.237261Z",
     "shell.execute_reply": "2022-05-11T19:30:11.236315Z",
     "shell.execute_reply.started": "2022-05-11T19:30:11.219270Z"
    },
    "tags": [],
    "pycharm": {
     "name": "#%%\n"
    }
   },
   "outputs": [],
   "source": [
    "print(cpc_data_merged.keys())"
   ]
  },
  {
   "cell_type": "code",
   "execution_count": null,
   "metadata": {
    "execution": {
     "iopub.execute_input": "2022-05-11T19:30:11.361263Z",
     "iopub.status.busy": "2022-05-11T19:30:11.359260Z",
     "iopub.status.idle": "2022-05-11T19:30:11.376259Z",
     "shell.execute_reply": "2022-05-11T19:30:11.375291Z",
     "shell.execute_reply.started": "2022-05-11T19:30:11.360304Z"
    },
    "tags": [],
    "pycharm": {
     "name": "#%%\n"
    }
   },
   "outputs": [],
   "source": [
    "cpc_data_merged['section']"
   ]
  },
  {
   "cell_type": "code",
   "execution_count": null,
   "metadata": {
    "execution": {
     "iopub.execute_input": "2022-05-11T19:30:11.532298Z",
     "iopub.status.busy": "2022-05-11T19:30:11.532298Z",
     "iopub.status.idle": "2022-05-11T19:30:11.549304Z",
     "shell.execute_reply": "2022-05-11T19:30:11.548305Z",
     "shell.execute_reply.started": "2022-05-11T19:30:11.532298Z"
    },
    "tags": [],
    "pycharm": {
     "name": "#%%\n"
    }
   },
   "outputs": [],
   "source": [
    "{k: cpc_data_merged['section'][k] for k in sorted(cpc_data_merged['section'])}"
   ]
  },
  {
   "cell_type": "code",
   "execution_count": null,
   "metadata": {
    "execution": {
     "iopub.execute_input": "2022-05-11T19:30:12.068668Z",
     "iopub.status.busy": "2022-05-11T19:30:12.068668Z",
     "iopub.status.idle": "2022-05-11T19:30:12.096706Z",
     "shell.execute_reply": "2022-05-11T19:30:12.095718Z",
     "shell.execute_reply.started": "2022-05-11T19:30:12.068668Z"
    },
    "tags": [],
    "pycharm": {
     "name": "#%%\n"
    }
   },
   "outputs": [],
   "source": [
    "from collections import defaultdict\n",
    "cpc_list = []\n",
    "\n",
    "for name in cpc_data_merged:\n",
    "    # Se ordena\n",
    "    cpc_data_merged[name] = {k: cpc_data_merged[name][k] for k in sorted(cpc_data_merged[name])}\n",
    "\n",
    "# Al ser un conjuntos agregados es decir una subclass tiene una class y una section\n",
    "# Se puede rellenar la subclass y todos los atributos de class y subclass\n",
    "for code, subclass_values in cpc_data_merged['subclass'].items():\n",
    "    _cpc_dict = defaultdict(tuple)\n",
    "\n",
    "    _section = code[0]\n",
    "    _class = code[1:-1]\n",
    "    _subclass = code[-1]\n",
    "    \n",
    "    _cpc_dict[\"sect_class\"] = _section+_class\n",
    "    _cpc_dict[\"section\"] = _section\n",
    "    _cpc_dict[\"class\"] = _class\n",
    "    _cpc_dict[\"subclass\"] = _subclass\n",
    "    \n",
    "    # Se rellena Section\n",
    "    _aux_section_values = tuple([])\n",
    "    for v in cpc_data_merged['section'][_section]:\n",
    "        _aux_section_values = _aux_section_values + tuple([v])\n",
    "\n",
    "    # Se rellena Class\n",
    "    _aux_class_values = tuple([])\n",
    "    for v in cpc_data_merged['class'][f'{_section}{_class}']:\n",
    "        _aux_class_values = _aux_class_values + tuple([v])\n",
    "    \n",
    "    # Se rellena Subclass\n",
    "    _aux_subclass_values = tuple([])\n",
    "    for v in subclass_values:\n",
    "        _aux_subclass_values = _aux_subclass_values + tuple([v])\n",
    "        \n",
    "    \n",
    "    _cpc_dict[f'section_text'] = _aux_section_values\n",
    "    _cpc_dict[f'class_text'] = _aux_class_values\n",
    "    _cpc_dict[f'subclass_text'] = _aux_subclass_values\n",
    "    \n",
    "    cpc_list.append(_cpc_dict)"
   ]
  },
  {
   "cell_type": "code",
   "execution_count": null,
   "metadata": {
    "execution": {
     "iopub.execute_input": "2022-05-11T19:30:12.239665Z",
     "iopub.status.busy": "2022-05-11T19:30:12.239665Z",
     "iopub.status.idle": "2022-05-11T19:30:12.256665Z",
     "shell.execute_reply": "2022-05-11T19:30:12.255664Z",
     "shell.execute_reply.started": "2022-05-11T19:30:12.239665Z"
    },
    "tags": [],
    "pycharm": {
     "name": "#%%\n"
    }
   },
   "outputs": [],
   "source": [
    "cpc_df = pd.DataFrame(cpc_list, columns=['sect_class', 'section', 'class', 'subclass', 'section_text', 'class_text', 'subclass_text'])"
   ]
  },
  {
   "cell_type": "code",
   "execution_count": null,
   "metadata": {
    "execution": {
     "iopub.execute_input": "2022-05-11T19:30:12.440665Z",
     "iopub.status.busy": "2022-05-11T19:30:12.440665Z",
     "iopub.status.idle": "2022-05-11T19:30:12.478664Z",
     "shell.execute_reply": "2022-05-11T19:30:12.477664Z",
     "shell.execute_reply.started": "2022-05-11T19:30:12.440665Z"
    },
    "tags": [],
    "pycharm": {
     "name": "#%%\n"
    }
   },
   "outputs": [],
   "source": [
    "cpc_df.iloc[0:9]"
   ]
  },
  {
   "cell_type": "code",
   "execution_count": null,
   "metadata": {
    "execution": {
     "iopub.execute_input": "2022-05-11T19:30:12.610666Z",
     "iopub.status.busy": "2022-05-11T19:30:12.610666Z",
     "iopub.status.idle": "2022-05-11T19:30:12.655687Z",
     "shell.execute_reply": "2022-05-11T19:30:12.653666Z",
     "shell.execute_reply.started": "2022-05-11T19:30:12.610666Z"
    },
    "tags": [],
    "pycharm": {
     "name": "#%%\n"
    }
   },
   "outputs": [],
   "source": [
    "cpc_df.describe()"
   ]
  },
  {
   "cell_type": "code",
   "execution_count": null,
   "metadata": {
    "execution": {
     "iopub.execute_input": "2022-05-11T19:30:12.775672Z",
     "iopub.status.busy": "2022-05-11T19:30:12.774663Z",
     "iopub.status.idle": "2022-05-11T19:30:12.795663Z",
     "shell.execute_reply": "2022-05-11T19:30:12.794710Z",
     "shell.execute_reply.started": "2022-05-11T19:30:12.775672Z"
    },
    "tags": [],
    "pycharm": {
     "name": "#%%\n"
    }
   },
   "outputs": [],
   "source": [
    "cpc_df.to_csv(\"./cpc_202105.csv\", index=False)"
   ]
  },
  {
   "cell_type": "code",
   "execution_count": null,
   "metadata": {
    "execution": {
     "iopub.execute_input": "2022-05-11T19:30:12.969293Z",
     "iopub.status.busy": "2022-05-11T19:30:12.968291Z",
     "iopub.status.idle": "2022-05-11T19:30:12.999288Z",
     "shell.execute_reply": "2022-05-11T19:30:12.998287Z",
     "shell.execute_reply.started": "2022-05-11T19:30:12.969293Z"
    },
    "tags": [],
    "pycharm": {
     "name": "#%%\n"
    }
   },
   "outputs": [],
   "source": [
    "cpc_df = pd.read_csv(\"./cpc_202105.csv\")\n",
    "cpc_df['class'] = cpc_df['sect_class'].apply(lambda x: x[1:])"
   ]
  },
  {
   "cell_type": "code",
   "execution_count": null,
   "metadata": {
    "execution": {
     "iopub.execute_input": "2022-05-11T19:30:13.147291Z",
     "iopub.status.busy": "2022-05-11T19:30:13.147291Z",
     "iopub.status.idle": "2022-05-11T19:30:13.189289Z",
     "shell.execute_reply": "2022-05-11T19:30:13.188287Z",
     "shell.execute_reply.started": "2022-05-11T19:30:13.147291Z"
    },
    "tags": [],
    "pycharm": {
     "name": "#%%\n"
    }
   },
   "outputs": [],
   "source": [
    "cpc_df.describe()"
   ]
  },
  {
   "cell_type": "code",
   "execution_count": null,
   "metadata": {
    "execution": {
     "iopub.execute_input": "2022-05-11T19:30:13.356782Z",
     "iopub.status.busy": "2022-05-11T19:30:13.356782Z",
     "iopub.status.idle": "2022-05-11T19:30:13.438761Z",
     "shell.execute_reply": "2022-05-11T19:30:13.437752Z",
     "shell.execute_reply.started": "2022-05-11T19:30:13.356782Z"
    },
    "pycharm": {
     "name": "#%%\n"
    }
   },
   "outputs": [],
   "source": [
    "cpc_df['section_text'] = cpc_df['section_text'].apply(eval)\n",
    "cpc_df['class_text'] = cpc_df['class_text'].apply(eval)\n",
    "cpc_df['subclass_text'] = cpc_df['subclass_text'].apply(eval)\n",
    "cpc_df = cpc_df.rename({'sect_class': 'context'}, axis=1)\n",
    "cpc_df_grouped = cpc_df.groupby('context').agg(tuple)\n",
    "\n",
    "for col in cpc_df_grouped.columns:\n",
    "    if 'subclass' not in col:\n",
    "        cpc_df_grouped[col] = cpc_df_grouped[col].apply(lambda row: row[0])\n",
    "        \n",
    "cpc_df = cpc_df_grouped.reset_index()\n",
    "cpc_df['subclass_text'] = cpc_df['subclass_text'].apply(lambda val: tuple([v for l in val for v in l]))"
   ]
  },
  {
   "cell_type": "markdown",
   "metadata": {
    "pycharm": {
     "name": "#%% md\n"
    }
   },
   "source": [
    "# Merge"
   ]
  },
  {
   "cell_type": "code",
   "execution_count": null,
   "metadata": {
    "execution": {
     "iopub.execute_input": "2022-05-11T19:30:13.700027Z",
     "iopub.status.busy": "2022-05-11T19:30:13.699013Z",
     "iopub.status.idle": "2022-05-11T19:30:13.724071Z",
     "shell.execute_reply": "2022-05-11T19:30:13.723053Z",
     "shell.execute_reply.started": "2022-05-11T19:30:13.700027Z"
    },
    "pycharm": {
     "name": "#%%\n"
    }
   },
   "outputs": [],
   "source": [
    "cpc_train_df = train_df.merge(cpc_df, on=['context'])"
   ]
  },
  {
   "cell_type": "code",
   "execution_count": null,
   "metadata": {
    "execution": {
     "iopub.execute_input": "2022-05-11T19:30:13.898743Z",
     "iopub.status.busy": "2022-05-11T19:30:13.898743Z",
     "iopub.status.idle": "2022-05-11T19:30:13.913741Z",
     "shell.execute_reply": "2022-05-11T19:30:13.912736Z",
     "shell.execute_reply.started": "2022-05-11T19:30:13.898743Z"
    },
    "pycharm": {
     "name": "#%%\n"
    }
   },
   "outputs": [],
   "source": [
    "cpc_train_df.dtypes"
   ]
  },
  {
   "cell_type": "markdown",
   "metadata": {
    "pycharm": {
     "name": "#%% md\n"
    }
   },
   "source": [
    "TRANSFORMS"
   ]
  },
  {
   "cell_type": "code",
   "execution_count": null,
   "metadata": {
    "execution": {
     "iopub.execute_input": "2022-05-11T19:30:14.260124Z",
     "iopub.status.busy": "2022-05-11T19:30:14.260124Z",
     "iopub.status.idle": "2022-05-11T19:30:14.335478Z",
     "shell.execute_reply": "2022-05-11T19:30:14.334461Z",
     "shell.execute_reply.started": "2022-05-11T19:30:14.260124Z"
    },
    "pycharm": {
     "name": "#%%\n"
    }
   },
   "outputs": [],
   "source": [
    "import re\n",
    "def count_regex(pattern, raw):\n",
    "    return len(re.findall(pattern, raw))\n",
    "\n",
    "cpc_train_df['section_cat'] = cpc_train_df['section'].apply(lambda x: ord(x) - ord('A'))\n",
    "cpc_train_df['class_cat'] = cpc_train_df['class'].astype(int)\n",
    "cpc_train_df['context_cat'] = cpc_train_df['context'].apply(lambda x: (ord(x[0]) - ord('A')) * 1000 + int(x[1:]))"
   ]
  },
  {
   "cell_type": "markdown",
   "metadata": {
    "pycharm": {
     "name": "#%% md\n"
    }
   },
   "source": [
    "# VISUALIZE"
   ]
  },
  {
   "cell_type": "code",
   "execution_count": null,
   "metadata": {
    "execution": {
     "iopub.execute_input": "2022-05-11T19:30:14.647679Z",
     "iopub.status.busy": "2022-05-11T19:30:14.647679Z",
     "iopub.status.idle": "2022-05-11T19:30:14.662675Z",
     "shell.execute_reply": "2022-05-11T19:30:14.661720Z",
     "shell.execute_reply.started": "2022-05-11T19:30:14.647679Z"
    },
    "tags": [],
    "pycharm": {
     "name": "#%%\n"
    }
   },
   "outputs": [],
   "source": [
    "import matplotlib.pyplot as plt\n",
    "import seaborn as sns\n",
    "sns.set(style=\"darkgrid\")\n",
    "sns.set(font_scale=1.3)"
   ]
  },
  {
   "cell_type": "code",
   "execution_count": null,
   "metadata": {
    "execution": {
     "iopub.execute_input": "2022-05-11T19:30:15.264268Z",
     "iopub.status.busy": "2022-05-11T19:30:15.263278Z",
     "iopub.status.idle": "2022-05-11T19:30:16.658333Z",
     "shell.execute_reply": "2022-05-11T19:30:16.657281Z",
     "shell.execute_reply.started": "2022-05-11T19:30:15.264268Z"
    },
    "tags": [],
    "pycharm": {
     "name": "#%%\n"
    }
   },
   "outputs": [],
   "source": [
    "sns.FacetGrid(cpc_train_df, hue=\"score\", height=5, aspect=4).map(sns.kdeplot, \"context_cat\").add_legend()\n",
    "sns.FacetGrid(cpc_train_df, hue=\"score\", height=5, aspect=4).map(sns.kdeplot, \"section_cat\").add_legend()"
   ]
  },
  {
   "cell_type": "code",
   "execution_count": null,
   "metadata": {
    "execution": {
     "iopub.execute_input": "2022-05-11T19:30:16.706266Z",
     "iopub.status.busy": "2022-05-11T19:30:16.706266Z",
     "iopub.status.idle": "2022-05-11T19:30:16.721271Z",
     "shell.execute_reply": "2022-05-11T19:30:16.719306Z",
     "shell.execute_reply.started": "2022-05-11T19:30:16.706266Z"
    },
    "pycharm": {
     "name": "#%%\n"
    }
   },
   "outputs": [],
   "source": [
    "pd.value_counts(cpc_train_df['score'].values, sort=True)"
   ]
  },
  {
   "cell_type": "code",
   "execution_count": null,
   "metadata": {
    "execution": {
     "iopub.execute_input": "2022-05-11T19:32:30.839834Z",
     "iopub.status.busy": "2022-05-11T19:32:30.839834Z",
     "iopub.status.idle": "2022-05-11T19:32:31.259001Z",
     "shell.execute_reply": "2022-05-11T19:32:31.258181Z",
     "shell.execute_reply.started": "2022-05-11T19:32:30.839834Z"
    },
    "pycharm": {
     "name": "#%%\n"
    }
   },
   "outputs": [],
   "source": [
    "cpc_train_df.corr()[\"score\"].abs().sort_values(ascending= False)"
   ]
  },
  {
   "cell_type": "code",
   "execution_count": null,
   "metadata": {
    "pycharm": {
     "name": "#%%\n"
    }
   },
   "outputs": [],
   "source": []
  },
  {
   "cell_type": "code",
   "execution_count": null,
   "metadata": {
    "pycharm": {
     "name": "#%%\n"
    }
   },
   "outputs": [],
   "source": []
  },
  {
   "cell_type": "markdown",
   "metadata": {
    "pycharm": {
     "name": "#%% md\n"
    }
   },
   "source": [
    "# WORD EMBEDDINGS\n",
    "[Guide Reference](https://medium.com/@adriensieg/text-similarities-da019229c894)"
   ]
  },
  {
   "cell_type": "markdown",
   "metadata": {
    "pycharm": {
     "name": "#%% md\n"
    }
   },
   "source": [
    "- Jaccard Similarity ☹☹☹\n",
    "- Different embeddings+ K-means ☹☹\n",
    "- Different embeddings+ Cosine Similarity ☹\n",
    "- Word2Vec + Smooth Inverse Frequency + Cosine Similarity 😊\n",
    "- Different embeddings+LSI + Cosine Similarity ☹\n",
    "- Different embeddings+ LDA + Jensen-Shannon distance 😊\n",
    "- Different embeddings+ Word Mover Distance 😊😊\n",
    "- Different embeddings+ Variational Auto Encoder (VAE) 😊 😊\n",
    "- Different embeddings+ Universal sentence encoder 😊😊\n",
    "- Different embeddings+ Siamese Manhattan LSTM 😊😊😊\n",
    "- BERT embeddings + Cosine Similarity ❤\n",
    "- Knowledge-based Measures ❤\n",
    "\n",
    "![Cosine Distance](./imgs/1_5J8YlnfnZlzFobQC9cGk-w.png)"
   ]
  },
  {
   "cell_type": "markdown",
   "metadata": {
    "pycharm": {
     "name": "#%% md\n"
    }
   },
   "source": [
    "## Bag of Words (BoW)"
   ]
  },
  {
   "cell_type": "code",
   "execution_count": null,
   "metadata": {
    "pycharm": {
     "name": "#%%\n"
    }
   },
   "outputs": [],
   "source": [
    "from sklearn.feature_extraction.text import CountVectorizer"
   ]
  },
  {
   "cell_type": "code",
   "execution_count": null,
   "metadata": {
    "pycharm": {
     "name": "#%%\n"
    }
   },
   "outputs": [],
   "source": []
  },
  {
   "cell_type": "markdown",
   "metadata": {
    "pycharm": {
     "name": "#%% md\n"
    }
   },
   "source": [
    "## Term Frequency - Inverse Document Frequency (TF - IDF)"
   ]
  },
  {
   "cell_type": "code",
   "execution_count": null,
   "metadata": {
    "pycharm": {
     "name": "#%%\n"
    }
   },
   "outputs": [],
   "source": [
    "from sklearn.feature_extraction.text import TfidfVectorizer"
   ]
  },
  {
   "cell_type": "code",
   "execution_count": null,
   "metadata": {
    "pycharm": {
     "name": "#%%\n"
    }
   },
   "outputs": [],
   "source": []
  },
  {
   "cell_type": "markdown",
   "metadata": {
    "pycharm": {
     "name": "#%% md\n"
    }
   },
   "source": [
    "## Continuous BoW (CBoW) model and SkipGram Model embedding (SkipGram)"
   ]
  },
  {
   "cell_type": "code",
   "execution_count": null,
   "metadata": {
    "pycharm": {
     "name": "#%%\n"
    }
   },
   "outputs": [],
   "source": []
  },
  {
   "cell_type": "code",
   "execution_count": null,
   "metadata": {
    "pycharm": {
     "name": "#%%\n"
    }
   },
   "outputs": [],
   "source": []
  },
  {
   "cell_type": "markdown",
   "metadata": {
    "pycharm": {
     "name": "#%% md\n"
    }
   },
   "source": [
    "## Pre Trained - Word2Vec (by Google)"
   ]
  },
  {
   "cell_type": "code",
   "execution_count": null,
   "metadata": {
    "pycharm": {
     "name": "#%%\n"
    }
   },
   "outputs": [],
   "source": []
  },
  {
   "cell_type": "code",
   "execution_count": null,
   "metadata": {
    "pycharm": {
     "name": "#%%\n"
    }
   },
   "outputs": [],
   "source": []
  },
  {
   "cell_type": "markdown",
   "metadata": {
    "pycharm": {
     "name": "#%% md\n"
    }
   },
   "source": [
    "## Pre Trained - GloVe (by Standford)"
   ]
  },
  {
   "cell_type": "code",
   "execution_count": null,
   "metadata": {
    "pycharm": {
     "name": "#%%\n"
    }
   },
   "outputs": [],
   "source": []
  },
  {
   "cell_type": "code",
   "execution_count": null,
   "metadata": {
    "pycharm": {
     "name": "#%%\n"
    }
   },
   "outputs": [],
   "source": []
  },
  {
   "cell_type": "markdown",
   "metadata": {
    "pycharm": {
     "name": "#%% md\n"
    }
   },
   "source": [
    "## Pre Trained - fastText (by Facebook)"
   ]
  },
  {
   "cell_type": "code",
   "execution_count": null,
   "metadata": {
    "pycharm": {
     "name": "#%%\n"
    }
   },
   "outputs": [],
   "source": []
  },
  {
   "cell_type": "code",
   "execution_count": null,
   "metadata": {
    "pycharm": {
     "name": "#%%\n"
    }
   },
   "outputs": [],
   "source": []
  },
  {
   "cell_type": "markdown",
   "metadata": {
    "pycharm": {
     "name": "#%% md\n"
    }
   },
   "source": [
    "## Poincarré embedding\n"
   ]
  },
  {
   "cell_type": "code",
   "execution_count": null,
   "metadata": {
    "pycharm": {
     "name": "#%%\n"
    }
   },
   "outputs": [],
   "source": []
  },
  {
   "cell_type": "code",
   "execution_count": null,
   "metadata": {
    "pycharm": {
     "name": "#%%\n"
    }
   },
   "outputs": [],
   "source": []
  },
  {
   "cell_type": "markdown",
   "metadata": {
    "pycharm": {
     "name": "#%% md\n"
    }
   },
   "source": [
    "## Node2Vec embedding based on Random Walk and Graph\n"
   ]
  },
  {
   "cell_type": "code",
   "execution_count": null,
   "metadata": {
    "pycharm": {
     "name": "#%%\n"
    }
   },
   "outputs": [],
   "source": []
  },
  {
   "cell_type": "code",
   "execution_count": null,
   "metadata": {
    "pycharm": {
     "name": "#%%\n"
    }
   },
   "outputs": [],
   "source": []
  },
  {
   "cell_type": "code",
   "execution_count": null,
   "metadata": {
    "pycharm": {
     "name": "#%%\n"
    }
   },
   "outputs": [],
   "source": []
  },
  {
   "cell_type": "markdown",
   "metadata": {
    "pycharm": {
     "name": "#%% md\n"
    }
   },
   "source": [
    "## BERT Embeddings"
   ]
  },
  {
   "cell_type": "code",
   "execution_count": null,
   "metadata": {
    "pycharm": {
     "name": "#%%\n"
    }
   },
   "outputs": [],
   "source": []
  },
  {
   "cell_type": "code",
   "execution_count": null,
   "metadata": {
    "pycharm": {
     "name": "#%%\n"
    }
   },
   "outputs": [],
   "source": []
  },
  {
   "cell_type": "markdown",
   "metadata": {
    "pycharm": {
     "name": "#%% md\n"
    }
   },
   "source": [
    "# MODELS"
   ]
  },
  {
   "cell_type": "markdown",
   "metadata": {
    "pycharm": {
     "name": "#%% md\n"
    }
   },
   "source": [
    "## LDA with Jensen-Shannon distance"
   ]
  },
  {
   "cell_type": "code",
   "execution_count": null,
   "metadata": {
    "pycharm": {
     "name": "#%%\n"
    }
   },
   "outputs": [],
   "source": [
    "def jensen_shannon(query, matrix):\n",
    "    \"\"\"\n",
    "    This function implements a Jensen-Shannon similarity\n",
    "    between the input query (an LDA topic distribution for a document)\n",
    "    and the entire corpus of topic distributions.\n",
    "    It returns an array of length M where M is the number of documents in the corpus\n",
    "    \"\"\"\n",
    "    # lets keep with the p,q notation above\n",
    "    p = query[None,:].T # take transpose\n",
    "    q = matrix.T # transpose matrix\n",
    "    m = 0.5*(p + q)\n",
    "    return np.sqrt(0.5*(entropy(p,m) + entropy(q,m)))\n",
    "\n",
    "def get_most_similar_documents(query,matrix,k=10):\n",
    "    \"\"\"\n",
    "    This function implements the Jensen-Shannon distance above\n",
    "    and retruns the top k indices of the smallest jensen shannon distances\n",
    "    \"\"\"\n",
    "    sims = jensen_shannon(query,matrix) # list of jensen shannon distances\n",
    "    return sims.argsort()[:k] # the top k positional index of the smallest Jensen Shannon distances\n",
    "\n"
   ]
  },
  {
   "cell_type": "markdown",
   "metadata": {
    "pycharm": {
     "name": "#%% md\n"
    }
   },
   "source": [
    "## WORDNET"
   ]
  },
  {
   "cell_type": "code",
   "execution_count": null,
   "metadata": {
    "execution": {
     "iopub.execute_input": "2022-05-11T20:17:39.093771Z",
     "iopub.status.busy": "2022-05-11T20:17:39.092767Z",
     "iopub.status.idle": "2022-05-11T20:17:39.444763Z",
     "shell.execute_reply": "2022-05-11T20:17:39.443765Z",
     "shell.execute_reply.started": "2022-05-11T20:17:39.093771Z"
    },
    "pycharm": {
     "name": "#%%\n"
    }
   },
   "outputs": [],
   "source": [
    "from nltk.corpus import wordnet as wn\n",
    "from nltk.corpus import wordnet_ic\n",
    "\n",
    "dog=wn.synsets('dog', pos=wn.NOUN)[0] #get the first noun synonym of the word \"dog\"\n",
    "cat=wn.synsets('cat', pos=wn.NOUN)[0]\n",
    "rose=wn.synsets('rose', pos=wn.NOUN)[0]\n",
    "flower=wn.synsets('flower', pos=wn.NOUN)[0]\n",
    "\n",
    "brown_ic = wordnet_ic.ic('ic-brown.dat') #load the brown corpus to compute the IC\n",
    "\n",
    "print(rose.res_similarity(flower, brown_ic))\n",
    "print(rose.res_similarity(dog, brown_ic))\n",
    "print(cat.res_similarity(dog, brown_ic))"
   ]
  },
  {
   "cell_type": "markdown",
   "metadata": {
    "pycharm": {
     "name": "#%% md\n"
    }
   },
   "source": [
    "![image.png](./imgs/1_6Gg14KMHGDFNWrW8oB6QZw.png)"
   ]
  },
  {
   "cell_type": "code",
   "execution_count": null,
   "metadata": {
    "pycharm": {
     "name": "#%%\n"
    }
   },
   "outputs": [],
   "source": []
  }
 ],
 "metadata": {
  "kernelspec": {
   "display_name": "Python 3",
   "language": "python",
   "name": "python3"
  },
  "language_info": {
   "codemirror_mode": {
    "name": "ipython",
    "version": 3
   },
   "file_extension": ".py",
   "mimetype": "text/x-python",
   "name": "python",
   "nbconvert_exporter": "python",
   "pygments_lexer": "ipython3",
   "version": "3.7.6"
  }
 },
 "nbformat": 4,
 "nbformat_minor": 5
}